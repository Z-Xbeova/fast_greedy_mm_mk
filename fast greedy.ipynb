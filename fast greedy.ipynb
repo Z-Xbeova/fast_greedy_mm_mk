{
 "cells": [
  {
   "cell_type": "markdown",
   "id": "d2b6f2b7",
   "metadata": {},
   "source": [
    "# Project 10\n",
    "\n",
    "authors: Mikołaj Malec, Marceli Korbin"
   ]
  },
  {
   "cell_type": "code",
   "execution_count": 1,
   "id": "fd0ec7be",
   "metadata": {},
   "outputs": [],
   "source": [
    "import networkx as nx\n",
    "import numpy as np\n",
    "import pandas as pd\n",
    "import random\n",
    "import time\n",
    "\n",
    "# Method\n",
    "from networkx.algorithms.community import greedy_modularity_communities\n",
    "random.seed(1)"
   ]
  },
  {
   "cell_type": "code",
   "execution_count": 2,
   "id": "dccd5016",
   "metadata": {},
   "outputs": [],
   "source": [
    "def tuple_2_set(tuple_set):\n",
    "    result_dict = {}\n",
    "    for index, tup in enumerate(tuple_set):\n",
    "        for elem in tup:\n",
    "            result_dict[elem] = index\n",
    "    return result_dict"
   ]
  },
  {
   "cell_type": "code",
   "execution_count": 3,
   "id": "f2fe9ff1",
   "metadata": {},
   "outputs": [],
   "source": [
    "def fast_greedy(G):\n",
    "    start_time = time.time()\n",
    "    communities_greedy = greedy_modularity_communities(G)\n",
    "    execution_time = time.time()-start_time\n",
    "    partition_communities_greedy = tuple_2_set(communities_greedy)\n",
    "    return partition_communities_greedy, execution_time"
   ]
  },
  {
   "cell_type": "code",
   "execution_count": 4,
   "id": "0943fca1",
   "metadata": {},
   "outputs": [],
   "source": [
    "filenames = ['D1-K=2.csv', 'D1-UNC.csv', 'D2-K=7.csv', 'D2-UNC.csv', 'D3-K=12.csv', 'D3-UNC.csv']\n",
    "input_pre\n",
    "output_prefix = 'results/'\n",
    "partitions = []\n",
    "times = []"
   ]
  },
  {
   "cell_type": "code",
   "execution_count": 5,
   "id": "30f131b8",
   "metadata": {},
   "outputs": [],
   "source": [
    "for filename in filenames:\n",
    "    graph_array = pd.read_csv(filename, sep=',', header=None).to_numpy()\n",
    "    G = nx.from_numpy_array(graph_array)\n",
    "    partition, algtime = fast_greedy(G)\n",
    "    partitions.append(partition)\n",
    "    times.append(algtime)"
   ]
  },
  {
   "cell_type": "code",
   "execution_count": 7,
   "id": "94cd7439",
   "metadata": {},
   "outputs": [],
   "source": [
    "for i in range(6):\n",
    "    filename = filenames[i]\n",
    "    partition = partitions[i]\n",
    "    output_file = open(output_prefix+filename, 'w')\n",
    "    for vertex in range(len(partition)):\n",
    "        vertex_index = str(vertex+1)\n",
    "        vertex_value = str(partition[vertex])\n",
    "        output_file.write(vertex_index+','+vertex_value+'\\n')\n",
    "    output_file.close()"
   ]
  },
  {
   "cell_type": "code",
   "execution_count": 10,
   "id": "1a922927",
   "metadata": {},
   "outputs": [],
   "source": [
    "description = open('results/description.txt', 'w')\n",
    "description.write('Mikołaj Malec, Marceli Korbin\\ngithub.com/Z-Xbeova/fast_greedy_mm_mk\\n')\n",
    "for i in range(6):\n",
    "    filename = filenames[i]\n",
    "    algtime = str(times[i])\n",
    "    description.write(filename+','+algtime+'\\n')\n",
    "description.close()"
   ]
  }
 ],
 "metadata": {
  "kernelspec": {
   "display_name": "Python 3 (ipykernel)",
   "language": "python",
   "name": "python3"
  },
  "language_info": {
   "codemirror_mode": {
    "name": "ipython",
    "version": 3
   },
   "file_extension": ".py",
   "mimetype": "text/x-python",
   "name": "python",
   "nbconvert_exporter": "python",
   "pygments_lexer": "ipython3",
   "version": "3.8.10"
  }
 },
 "nbformat": 4,
 "nbformat_minor": 5
}
